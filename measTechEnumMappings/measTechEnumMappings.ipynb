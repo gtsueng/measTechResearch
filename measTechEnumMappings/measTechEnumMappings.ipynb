{
 "cells": [
  {
   "cell_type": "markdown",
   "id": "635c9c16",
   "metadata": {},
   "source": [
    "## Mapping Enum(ish) Measurement Technique values\n",
    "\n",
    "Some repositories provide (fairly) consistent measurement technique values. For example, NCBI GEO has consistently used measurementTechnique terms. For these types of repositories, it's not necessary to perform NLP extractions of the measurement techniques. Rather, we simply need to map the values. \n",
    "\n",
    "This notebook is for extracting the consistent techniques from repositories that have mostly consistent values and mapping those values see the corresponding GH issue: https://github.com/NIAID-Data-Ecosystem/nde-crawlers/issues/157\n",
    "\n",
    "The repositories which will be handled by this notebook include:\n",
    "- LINCS\n",
    "- SRA"
   ]
  },
  {
   "cell_type": "code",
   "execution_count": 16,
   "id": "663f3109",
   "metadata": {},
   "outputs": [],
   "source": [
    "import os\n",
    "import pandas as pd\n",
    "import json\n",
    "import requests\n",
    "import math"
   ]
  },
  {
   "cell_type": "code",
   "execution_count": 17,
   "id": "3432c249",
   "metadata": {},
   "outputs": [],
   "source": [
    "script_path = os.getcwd()\n",
    "parent_path = os.path.abspath(os.path.join(script_path, os.pardir))\n",
    "result_path = os.path.join(script_path,'results')"
   ]
  },
  {
   "cell_type": "markdown",
   "id": "7522eef8",
   "metadata": {},
   "source": [
    "#### Generate MeasTechList for LINCS"
   ]
  },
  {
   "cell_type": "code",
   "execution_count": 3,
   "id": "95889a4c",
   "metadata": {},
   "outputs": [
    {
     "name": "stdout",
     "output_type": "stream",
     "text": [
      "424\n",
      "CPU times: total: 141 ms\n",
      "Wall time: 1.14 s\n"
     ]
    }
   ],
   "source": [
    "%%time\n",
    "\n",
    "## Perform the initial query\n",
    "\n",
    "query_url = 'https://api-staging.data.niaid.nih.gov/v1/query?q=includedInDataCatalog.name:\"LINCS\"&fields=_id,measurementTechnique&fetch_all=true'\n",
    "r = requests.get(query_url)\n",
    "cleanr = json.loads(r.text)\n",
    "hits = cleanr['hits']\n",
    "print(len(cleanr['hits']))"
   ]
  },
  {
   "cell_type": "code",
   "execution_count": 5,
   "id": "90a5e4ab",
   "metadata": {},
   "outputs": [
    {
     "name": "stdout",
     "output_type": "stream",
     "text": [
      "424\n",
      "        _id       _ignored    _score  \\\n",
      "0  lds-1007  [all.keyword]  11.00529   \n",
      "1  lds-1023  [all.keyword]  11.00529   \n",
      "\n",
      "                                measurementTechnique  \n",
      "0  {'description': 'Biochemical', 'name': 'KINOME...  \n",
      "1  {'description': 'Biochemical', 'name': 'KINOME...  \n"
     ]
    }
   ],
   "source": [
    "df1 = pd.DataFrame(cleanr['hits'])\n",
    "total_hits = cleanr['total']\n",
    "print(total_hits)\n",
    "print(df1.head(n=2))"
   ]
  },
  {
   "cell_type": "code",
   "execution_count": 9,
   "id": "52c16606",
   "metadata": {},
   "outputs": [],
   "source": [
    "def popout_name(meastech):\n",
    "    measname = []\n",
    "    if isinstance(meastech,dict):\n",
    "        measname.append(meastech['name'])\n",
    "    elif isinstance(meastech,list):\n",
    "        for eachmeas in meastech:\n",
    "            measname.append(eachmeas['name'])\n",
    "    else:\n",
    "        measname= meastech\n",
    "    return measname"
   ]
  },
  {
   "cell_type": "code",
   "execution_count": 10,
   "id": "29902479",
   "metadata": {},
   "outputs": [],
   "source": [
    "df1['measname'] = df1.apply(lambda row: popout_name(row['measurementTechnique']),axis=1)\n",
    "df2 = df1.explode('measname')"
   ]
  },
  {
   "cell_type": "code",
   "execution_count": 15,
   "id": "c4c85637",
   "metadata": {},
   "outputs": [
    {
     "name": "stdout",
     "output_type": "stream",
     "text": [
      "32\n",
      "                                            measname  counts\n",
      "0                ATAC-seq epigenetic profiling assay       4\n",
      "1  Aggregated small molecule biochemical target a...       1\n"
     ]
    }
   ],
   "source": [
    "frequency_df = df2.groupby('measname').size().reset_index(name='counts')\n",
    "print(len(frequency_df))\n",
    "print(frequency_df.head(n=2))\n",
    "frequency_df.to_csv(os.path.join(result_path,'LINCS_freq.tsv'),sep='\\t',header=True)"
   ]
  },
  {
   "cell_type": "markdown",
   "id": "7e05f283",
   "metadata": {},
   "source": [
    "#### Pull measTech for SRA\n",
    "\n",
    "Note, it looks like the measurementTechnique data for SRA is currently not parsed/crawled"
   ]
  },
  {
   "cell_type": "code",
   "execution_count": null,
   "id": "b76594f2",
   "metadata": {},
   "outputs": [],
   "source": [
    "%%time\n",
    "\n",
    "## Perform the initial query\n",
    "\n",
    "query_url = 'https://api-staging.data.niaid.nih.gov/v1/query?q=includedInDataCatalog.name:\"NCBI+SRA\"&fields=_id,measurementTechnique&fetch_all=true'\n",
    "r = requests.get(query_url)\n",
    "cleanr = json.loads(r.text)\n",
    "hits = cleanr['hits']\n",
    "print(len(cleanr['hits']))"
   ]
  },
  {
   "cell_type": "code",
   "execution_count": null,
   "id": "2db5bd45",
   "metadata": {},
   "outputs": [],
   "source": [
    "i = 0\n",
    "k = 3 \n",
    "#k = math.ceil(total_hits/1000)\n",
    "while i < k:\n",
    "    #r2 = requests.get(f'https://api.data.niaid.nih.gov/v1/query?scroll_id={scroll_id}')\n",
    "    r2 = requests.get(f'https://api-staging.data.niaid.nih.gov/v1/query?scroll_id={scroll_id}')\n",
    "    tmp = json.loads(r2.text)\n",
    "    scroll_id = tmp['_scroll_id']\n",
    "    tmpdf = pd.DataFrame(tmp['hits'])\n",
    "    df1 = pd.concat((df1,tmpdf),ignore_index=True)\n",
    "    #print(len(df1))\n",
    "    i = i+1\n",
    "    time.sleep(0.25)"
   ]
  }
 ],
 "metadata": {
  "kernelspec": {
   "display_name": "Python 3 (ipykernel)",
   "language": "python",
   "name": "python3"
  },
  "language_info": {
   "codemirror_mode": {
    "name": "ipython",
    "version": 3
   },
   "file_extension": ".py",
   "mimetype": "text/x-python",
   "name": "python",
   "nbconvert_exporter": "python",
   "pygments_lexer": "ipython3",
   "version": "3.10.10"
  }
 },
 "nbformat": 4,
 "nbformat_minor": 5
}
